{
  "nbformat": 4,
  "nbformat_minor": 0,
  "metadata": {
    "colab": {
      "provenance": [],
      "authorship_tag": "ABX9TyNgvmYTVtxGme6e25A9fkgI",
      "include_colab_link": true
    },
    "kernelspec": {
      "name": "python3",
      "display_name": "Python 3"
    },
    "language_info": {
      "name": "python"
    }
  },
  "cells": [
    {
      "cell_type": "markdown",
      "metadata": {
        "id": "view-in-github",
        "colab_type": "text"
      },
      "source": [
        "<a href=\"https://colab.research.google.com/github/MelissaCoba/hola-mundo/blob/main/A_t2_Coba_Melissa.ipynb\" target=\"_parent\"><img src=\"https://colab.research.google.com/assets/colab-badge.svg\" alt=\"Open In Colab\"/></a>"
      ]
    },
    {
      "cell_type": "code",
      "execution_count": null,
      "metadata": {
        "id": "9wZSLYYXrlw8"
      },
      "outputs": [],
      "source": []
    },
    {
      "cell_type": "markdown",
      "source": [
        "# **Trabajo 2 TIC**\n",
        "\n",
        "## **Tecnologias de la Informacion y Comunicacion**\n",
        "\n",
        "### Unidad 3: Herramientas Colaborativas en Linea\n",
        "\n",
        "---"
      ],
      "metadata": {
        "id": "qkc0Fx7TrtWY"
      }
    },
    {
      "cell_type": "code",
      "source": [
        "#Hola Mundo: Escribe un programa que imprima \"Hola, Mundo!\" en la pantalla.\n",
        "\n",
        "print (\"hola mundo\")"
      ],
      "metadata": {
        "colab": {
          "base_uri": "https://localhost:8080/"
        },
        "id": "8xdRbOqsrwaP",
        "outputId": "f5cf373b-724d-4aef-834b-ac15a24182f0"
      },
      "execution_count": null,
      "outputs": [
        {
          "output_type": "stream",
          "name": "stdout",
          "text": [
            "hola mundo\n"
          ]
        }
      ]
    },
    {
      "cell_type": "code",
      "source": [
        "#Suma de dos números: Escribe un programa que pida al usuario dos números y los sume.\n",
        "\n",
        "num1=int(input(\"Ingrese un numero: \"))\n",
        "num2=int(input(\"Ingrese otro numero: \"))\n",
        "print(num1+num2)"
      ],
      "metadata": {
        "colab": {
          "base_uri": "https://localhost:8080/"
        },
        "id": "PFmzIoXesN8a",
        "outputId": "45fbeae4-8c55-43b7-fe00-af9311f54674"
      },
      "execution_count": null,
      "outputs": [
        {
          "output_type": "stream",
          "name": "stdout",
          "text": [
            "Ingrese un numero: 8\n",
            "Ingrese otro numero: 8\n",
            "16\n"
          ]
        }
      ]
    },
    {
      "cell_type": "code",
      "source": [
        "#Par o Impar: Escribe un programa que determine si un número introducido por el usuario es par o impar.\n",
        "\n",
        "num1=int(input(\"Ingrese un numero: \"))\n",
        "num0=[]\n",
        "num0.append(num1)\n",
        "numero_par=list(filter(lambda x: x%2==0,num0))\n",
        "print(\"el numero es par\",numero_par)\n",
        "numero_impar=list(filter(lambda x: x%2==1,num0))\n",
        "print(\"el numero es impar\",numero_impar)\n"
      ],
      "metadata": {
        "colab": {
          "base_uri": "https://localhost:8080/"
        },
        "id": "1RUKzbc2snKH",
        "outputId": "ea90ae0a-2bbf-420b-e5aa-223d9ca6191a"
      },
      "execution_count": null,
      "outputs": [
        {
          "output_type": "stream",
          "name": "stdout",
          "text": [
            "Ingrese un numero: 9\n",
            "el numero es par []\n",
            "el numero es impar [9]\n"
          ]
        }
      ]
    },
    {
      "cell_type": "code",
      "source": [
        "#Calculadora básica: Escribe un programa que realice operaciones básicas (suma, resta, multiplicación y división) entre dos números introducidos por el usuario.\n",
        "opcion=int(input(\"escoja opcion: \"))\n",
        "print(f\"1.suma\\n2.resta\\n3.multiplicacion\\n4.division\\n5.salir\")\n",
        "def operacion(a,b):\n",
        "  if opcion==1:\n",
        "    return(a+b)\n",
        "  elif opcion==2:\n",
        "    return(a-b)\n",
        "  elif opcion==3:\n",
        "    return(a*b)\n",
        "  elif opcion==4:\n",
        "    return(a/b)\n",
        "if opcion==5:\n",
        "  print(\"gracias por usar la calculadora\")\n",
        "else:\n",
        "  num1=int(input(\"ingrese numero: \"))\n",
        "  num2=int(input(\"ingrese numero: \"))\n",
        "  resul=operacion(num1,num2)\n",
        "  print(\"el resultado es: \",resul)"
      ],
      "metadata": {
        "colab": {
          "base_uri": "https://localhost:8080/"
        },
        "collapsed": true,
        "id": "3-yPhvkCvb9E",
        "outputId": "8fd31407-72d3-40cf-e09d-f5acfccd9ca5"
      },
      "execution_count": 2,
      "outputs": [
        {
          "output_type": "stream",
          "name": "stdout",
          "text": [
            "escoja opcion: 2\n",
            "1.suma\n",
            "2.resta\n",
            "3.multiplicacion\n",
            "4.division\n",
            "5.salir\n"
          ]
        }
      ]
    },
    {
      "cell_type": "code",
      "source": [
        "#Cálculo del área de un círculo: Escribe un programa que calcule el área de un círculo a partir de su radio, ingresado por el usuario.\n",
        "#r = c/(2 × π)\n",
        "import math\n",
        "num1=float(input(\"ingrese circunferencia: \"))\n",
        "print(\"el área del círculo es: \",num1/(2*math.pi))"
      ],
      "metadata": {
        "id": "FEP2zL-p5TBR"
      },
      "execution_count": null,
      "outputs": []
    },
    {
      "cell_type": "code",
      "source": [
        "#Número mayor: Escribe un programa que pida tres números al usuario y determine cuál es el mayor.\n",
        "\n",
        "num1=(input(\"ingrese numero1: \"))\n",
        "num2=(input(\"ingrese numero2: \"))\n",
        "num3=(input(\"ingrese numero3: \"))\n",
        "lista=[]\n",
        "lista.append(int(num1))\n",
        "lista.append(int(num2))\n",
        "lista.append(int(num3))\n",
        "print(\"el mayor es: \",max(lista))\n"
      ],
      "metadata": {
        "id": "v43nb8Gt6qcr"
      },
      "execution_count": null,
      "outputs": []
    },
    {
      "cell_type": "code",
      "source": [
        "#Conversión de grados Celsius a Fahrenheit: Escribe un programa que convierta una temperatura dada en grados Celsius a grados Fahrenheit.\n",
        "\n",
        "num1=float(input(\"ingrese grados celsius: \"))\n",
        "# Para convertir grados celsius a Fahrenheit: multiplicar por 9/ 5 o por 1,8 y luego sumar 32.\n",
        "print(\"la conversion de grados celsuis a Fahrenheit es: \",(num1*1.8)+32)\n",
        "\n"
      ],
      "metadata": {
        "id": "7fPBv5PM5TUJ"
      },
      "execution_count": null,
      "outputs": []
    },
    {
      "cell_type": "code",
      "source": [
        "#Cuenta atrás: Escribe un programa que cuente hacia atrás desde 10 hasta 0.\n",
        "for i in range(10,-1,-1):\n",
        "  print(i)"
      ],
      "metadata": {
        "id": "qe9Of5-k5ThI"
      },
      "execution_count": null,
      "outputs": []
    },
    {
      "cell_type": "code",
      "source": [
        "#Tabla de multiplicar: Escribe un programa que muestre la tabla de multiplicar de un número introducido por el usuario.\n",
        "a=int(input(\"Ingrese numero para obtener la tabla \"))\n",
        "for i in range(1,11):\n",
        "  print(a,\" x \",i,\" = \",a*i)"
      ],
      "metadata": {
        "id": "Uk2MXPR75lEr"
      },
      "execution_count": null,
      "outputs": []
    },
    {
      "cell_type": "code",
      "source": [
        "#Números primos: Escribe un programa que determine si un número introducido por el usuario es primo.\n",
        "def es_primo(a):\n",
        "    for i in range(2, a):\n",
        "        if a % i == 0:\n",
        "            return False\n",
        "    return True\n",
        "\n",
        "num=int(input(\"ingrese numero para comprobar si es primo: \"))\n",
        "if es_primo(num):\n",
        "    print(\"el numero ingresado SI es primo\")\n",
        "else:\n",
        "    print(\"el numero ingresado NO es primo\")\n"
      ],
      "metadata": {
        "id": "sJ6lvpjQ5lKZ"
      },
      "execution_count": null,
      "outputs": []
    },
    {
      "cell_type": "code",
      "source": [
        "#Sumar números hasta un límite: Escribe un programa que sume todos los números naturales hasta un número límite introducido por el usuario.\n",
        "num=int(input(\"ingrese numero limite: \"))\n",
        "acum=0\n",
        "for i in range(num+1):\n",
        "  acum=acum+i\n",
        "print(\"la suma es: \",acum)\n"
      ],
      "metadata": {
        "id": "CVLDbWIO5lNx"
      },
      "execution_count": null,
      "outputs": []
    },
    {
      "cell_type": "code",
      "source": [
        "#Invertir una cadena: Escribe un programa que invierta una cadena introducida por el usuario.\n",
        "cadena=input(\"ingrese texto: \")\n",
        "invierta = cadena[::-1]\n",
        "print(invierta)"
      ],
      "metadata": {
        "id": "tSwQ2sfz5lRI"
      },
      "execution_count": null,
      "outputs": []
    },
    {
      "cell_type": "code",
      "source": [
        "#Contar vocales: Escribe un programa que cuente el número de vocales en una cadena introducida por el usuario.\n",
        "cadena=input(\"ingrese texto: \")\n",
        "contador=0\n",
        "for i in cadena:\n",
        "  if i.upper() in (\"A\",\"E\",\"I\",\"O\",\"U\"):\n",
        "    contador +=1\n",
        "print(\"el numero de vocales es: \",contador)\n"
      ],
      "metadata": {
        "id": "joGIj8xV5lWZ"
      },
      "execution_count": null,
      "outputs": []
    },
    {
      "cell_type": "code",
      "source": [
        "#Palíndromo: Escribe un programa que determine si una cadena introducida por el usuario es un palíndromo.\n",
        "cadena=input(\"ingrese texto: \")\n",
        "invierta = cadena[::-1]\n",
        "if cadena == invierta:\n",
        "  print(\"Es palindriomo\")\n",
        "else:\n",
        "  print(\"NO Es palindriomo\")\n"
      ],
      "metadata": {
        "id": "mqwtYkli5sy4"
      },
      "execution_count": null,
      "outputs": []
    },
    {
      "cell_type": "code",
      "source": [
        "#Factorial de un número: Escribe un programa que calcule el factorial de un número introducido por el usuario.\n",
        "def factorial(a):\n",
        "    acum=1\n",
        "    for i in range(1,a+1):\n",
        "        acum= i * acum\n",
        "    return acum\n",
        "\n",
        "num=int(input(\"ingrese numero que desea el factorial: \"))\n",
        "print(\"el factorial es: \",factorial(num))"
      ],
      "metadata": {
        "id": "dNjOagH85svI"
      },
      "execution_count": null,
      "outputs": []
    },
    {
      "cell_type": "code",
      "source": [
        "#Generar números aleatorios: Escribe un programa que genere y muestre 5 números aleatorios entre 1 y 100.\n",
        "import random\n",
        "num=0\n",
        "lista=[]\n",
        "for i in range(5):\n",
        "  numero = random.randint(1, 100)\n",
        "  print(numero)"
      ],
      "metadata": {
        "id": "Jk4FkLcY5ssC"
      },
      "execution_count": null,
      "outputs": []
    },
    {
      "cell_type": "code",
      "source": [
        "#Calculadora de índice de masa corporal (IMC): Escribe un programa que calcule el índice de masa corporal (IMC) a partir del peso y la altura introducidos por el usuario.\n",
        "peso=float(input(\"ingrese peso kg: \"))\n",
        "altura=float(input(\"ingrese altura metros: \"))\n",
        "print (\"el indice de masa corporal es: \",(peso/altura))\n"
      ],
      "metadata": {
        "id": "cVGXbanu5so5"
      },
      "execution_count": null,
      "outputs": []
    }
  ]
}