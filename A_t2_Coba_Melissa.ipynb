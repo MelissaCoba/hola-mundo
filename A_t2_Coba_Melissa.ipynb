{
  "nbformat": 4,
  "nbformat_minor": 0,
  "metadata": {
    "colab": {
      "provenance": [],
      "authorship_tag": "ABX9TyPIaeybxFXx1jl2TfSq2Gnq",
      "include_colab_link": true
    },
    "kernelspec": {
      "name": "python3",
      "display_name": "Python 3"
    },
    "language_info": {
      "name": "python"
    }
  },
  "cells": [
    {
      "cell_type": "markdown",
      "metadata": {
        "id": "view-in-github",
        "colab_type": "text"
      },
      "source": [
        "<a href=\"https://colab.research.google.com/github/MelissaCoba/hola-mundo/blob/main/A_t2_Coba_Melissa.ipynb\" target=\"_parent\"><img src=\"https://colab.research.google.com/assets/colab-badge.svg\" alt=\"Open In Colab\"/></a>"
      ]
    },
    {
      "cell_type": "code",
      "execution_count": null,
      "metadata": {
        "id": "9wZSLYYXrlw8"
      },
      "outputs": [],
      "source": []
    },
    {
      "cell_type": "markdown",
      "source": [
        "*Trabajo 2 TIC\n",
        "\n",
        "**Tecnologias de la Informacion y Comunicacion\n",
        "\n",
        "***Unidad 3: Herramientas Colaborativas en Linea\n",
        "\n",
        "---"
      ],
      "metadata": {
        "id": "qkc0Fx7TrtWY"
      }
    },
    {
      "cell_type": "code",
      "source": [
        "print (\"hola mundo\")"
      ],
      "metadata": {
        "colab": {
          "base_uri": "https://localhost:8080/"
        },
        "id": "8xdRbOqsrwaP",
        "outputId": "f5cf373b-724d-4aef-834b-ac15a24182f0"
      },
      "execution_count": 2,
      "outputs": [
        {
          "output_type": "stream",
          "name": "stdout",
          "text": [
            "hola mundo\n"
          ]
        }
      ]
    },
    {
      "cell_type": "code",
      "source": [
        "num1=int(input(\"Ingrese un numero: \"))\n",
        "num2=int(input(\"Ingrese otro numero: \"))\n",
        "print(num1+num2)"
      ],
      "metadata": {
        "colab": {
          "base_uri": "https://localhost:8080/"
        },
        "id": "PFmzIoXesN8a",
        "outputId": "45fbeae4-8c55-43b7-fe00-af9311f54674"
      },
      "execution_count": 3,
      "outputs": [
        {
          "output_type": "stream",
          "name": "stdout",
          "text": [
            "Ingrese un numero: 8\n",
            "Ingrese otro numero: 8\n",
            "16\n"
          ]
        }
      ]
    },
    {
      "cell_type": "code",
      "source": [
        "num1=int(input(\"Ingrese un numero: \"))\n",
        "num0=[]\n",
        "num0.append(num1)\n",
        "numero_par=list(filter(lambda x: x%2==0,num0))\n",
        "print(\"el numero es par\",numero_par)\n",
        "numero_impar=list(filter(lambda x: x%2==1,num0))\n",
        "print(\"el numero es impar\",numero_impar)\n"
      ],
      "metadata": {
        "colab": {
          "base_uri": "https://localhost:8080/"
        },
        "id": "1RUKzbc2snKH",
        "outputId": "ea90ae0a-2bbf-420b-e5aa-223d9ca6191a"
      },
      "execution_count": 11,
      "outputs": [
        {
          "output_type": "stream",
          "name": "stdout",
          "text": [
            "Ingrese un numero: 9\n",
            "el numero es par []\n",
            "el numero es impar [9]\n"
          ]
        }
      ]
    },
    {
      "cell_type": "code",
      "source": [
        "num1=int(input(\"Ingrese un numero: \"))\n",
        "num2=int(input(\"Ingrese otro numero: \"))\n",
        "op= \" \"\n",
        "print(\"1. suma\\n2. Resta\\n3. Multiplicar \\n4. Dividir \\n5. Salir\")\n",
        "op=int(input(\"ingrese una opcion: \"))\n",
        "\n",
        "if op==\"1\":\n",
        "  suma=(num1+num2)\n",
        "  print(suma)\n",
        "elif op==\"2\":\n",
        "    resta=num1-num2\n",
        "    print(\"la resta es: \",resta)\n",
        "elif op==\"3\":\n",
        "      print(num1*num2)\n",
        "elif op==\"4\":\n",
        "      print(num1/num2)\n",
        "elif op==\"5\":\n",
        "      print(\"Gracias por usar la calculadora\")\n"
      ],
      "metadata": {
        "colab": {
          "base_uri": "https://localhost:8080/"
        },
        "collapsed": true,
        "id": "3-yPhvkCvb9E",
        "outputId": "109b820f-40b1-47b1-f1cf-c57569f99fa0"
      },
      "execution_count": 35,
      "outputs": [
        {
          "name": "stdout",
          "output_type": "stream",
          "text": [
            "Ingrese un numero: 8\n",
            "Ingrese otro numero: 9\n",
            "1. suma\n",
            "2. Resta\n",
            "3. Multiplicar \n",
            "4. Dividir \n",
            "5. Salir\n",
            "ingrese una opcion4\n"
          ]
        }
      ]
    }
  ]
}